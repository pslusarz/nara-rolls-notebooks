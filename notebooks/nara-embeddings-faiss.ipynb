{
 "cells": [
  {
   "cell_type": "code",
   "execution_count": 1,
   "metadata": {
    "collapsed": true,
    "ExecuteTime": {
     "end_time": "2024-01-02T16:42:55.523284Z",
     "start_time": "2024-01-02T16:42:55.082353Z"
    }
   },
   "outputs": [
    {
     "name": "stdout",
     "output_type": "stream",
     "text": [
      "/Users/paulslusarz/projects/pauls-llm-playground\n",
      "1.5.0\n"
     ]
    }
   ],
   "source": [
    "import openai\n",
    "import os\n",
    "from dotenv import load_dotenv, find_dotenv\n",
    "os.chdir(\"/Users/paulslusarz/projects/pauls-llm-playground\")\n",
    "print(os.getcwd())\n",
    "_ = load_dotenv(find_dotenv(raise_error_if_not_found=True))\n",
    "openai.api_key  = os.getenv('OPENAI_API_KEY')\n",
    "print(openai.version.VERSION) #not sure why, but intellij with local venv sets this to /\n"
   ]
  },
  {
   "cell_type": "code",
   "execution_count": 2,
   "outputs": [],
   "source": [
    "from langchain.document_loaders import DirectoryLoader, TextLoader\n",
    "\n",
    "path = 'notebooks/data/full/gpt4-with-tess'\n",
    "loader = DirectoryLoader(path, glob=\"**/*.txt\", loader_cls=TextLoader)\n",
    "docs = loader.load()\n"
   ],
   "metadata": {
    "collapsed": false,
    "ExecuteTime": {
     "end_time": "2024-01-02T16:43:07.743476Z",
     "start_time": "2024-01-02T16:43:06.589707Z"
    }
   }
  },
  {
   "cell_type": "code",
   "execution_count": 3,
   "outputs": [],
   "source": [
    "from langchain.text_splitter import RecursiveCharacterTextSplitter\n",
    "\n",
    "text_splitter = RecursiveCharacterTextSplitter(\n",
    "    # Set a really small chunk size, just to show.\n",
    "    chunk_size = 1000,\n",
    "    chunk_overlap  = 100,\n",
    ")\n",
    "split_docs = text_splitter.split_documents(docs)\n"
   ],
   "metadata": {
    "collapsed": false,
    "ExecuteTime": {
     "end_time": "2024-01-02T16:43:16.527714Z",
     "start_time": "2024-01-02T16:43:16.518088Z"
    }
   }
  },
  {
   "cell_type": "code",
   "execution_count": 4,
   "outputs": [],
   "source": [
    "from langchain.embeddings import OpenAIEmbeddings\n",
    "from langchain.vectorstores import FAISS\n",
    "from langchain.indexes.vectorstore import VectorStoreIndexWrapper\n",
    "\n",
    "openAiEmbeddings = OpenAIEmbeddings()\n",
    "\n",
    "\n",
    "\n",
    "vectorstore_faiss = FAISS.from_documents(\n",
    "    split_docs,\n",
    "    openAiEmbeddings,\n",
    ")\n",
    "\n",
    "wrapper_store_faiss = VectorStoreIndexWrapper(vectorstore=vectorstore_faiss)\n"
   ],
   "metadata": {
    "collapsed": false,
    "ExecuteTime": {
     "end_time": "2024-01-02T16:43:34.432798Z",
     "start_time": "2024-01-02T16:43:24.135090Z"
    }
   }
  },
  {
   "cell_type": "code",
   "execution_count": 8,
   "outputs": [],
   "source": [
    "retriever = vectorstore_faiss.as_retriever()\n",
    "query_docs = retriever.get_relevant_documents(\"Tell me about pistol production at the Radom Weapons Factory, aka Rifle Factory?\")\n",
    "\n"
   ],
   "metadata": {
    "collapsed": false,
    "ExecuteTime": {
     "end_time": "2024-01-02T16:59:22.873196Z",
     "start_time": "2024-01-02T16:59:22.374913Z"
    }
   }
  },
  {
   "cell_type": "code",
   "execution_count": 14,
   "outputs": [
    {
     "name": "stdout",
     "output_type": "stream",
     "text": [
      "(Document(page_content='Im Raum Klonownica (14 km nnö. Biała-Podlaska) wurden 40 \\nVersorgungsfallschirme sichergestellt. Inhalt: 6 deutsche \\nle. M.G., 69 U.Pi., etwa 22 000 Schuss Pistolen- und \\n\\n16 000 Schuss Gewehrmunition, 477 Handgranaten, 20 Pistolen,\\n4 Sendegeräte, eine grosse Menge Sprengstoff sowie weiteres \\nGerät. \\n\\nBei Dynów (40 km n. Krosno) wurde ein Versorgungsfallschirm \\nmit Munition englischer Herkunft sichergestellt.\\n\\nBei Bielice (8 km sö. Sochaczew) wurden 9 Behälter aufge-\\nfunden, die Sprengstoff, Handgranaten, Minen, Munition \\nsowie deutsches und amerikanisches Geld enthielten.\\nBanditen: \\n\\nEs ereigneten sich 6322 Überfälle, davon 5897 durch Ban-\\nditen und 425 durch stärkere Banden ( 121 durch Banden \\nüber 100 Mann), -\\n\\nFolgende Anschläge wurden verübt:\\n\\na) Auf Wehrmachtangehörige, Wehrmachteinrichtungen, Zollgrenz-\\nschutz:\\n\\n95 Anschläge auf Schutzkommandos und Stützpunkte, Wachen, \\nStreifen sowie Fahrzeuge.\\n1 notgelandetes Flugzeug mit Lastensegler von Banditen \\nin Brand gesteckt, ;', metadata={'source': 'notebooks/data/full/gpt4-with-tess/0032-gpt4-with-tess.txt'}), 0.45623082)\n"
     ]
    }
   ],
   "source": [
    "results = vectorstore_faiss.similarity_search_with_score(\"Vis pistolen\")\n",
    "print(results[2])\n"
   ],
   "metadata": {
    "collapsed": false,
    "ExecuteTime": {
     "end_time": "2024-01-02T18:56:24.851125Z",
     "start_time": "2024-01-02T18:56:24.426635Z"
    }
   }
  }
 ],
 "metadata": {
  "kernelspec": {
   "display_name": "Python 3",
   "language": "python",
   "name": "python3"
  },
  "language_info": {
   "codemirror_mode": {
    "name": "ipython",
    "version": 2
   },
   "file_extension": ".py",
   "mimetype": "text/x-python",
   "name": "python",
   "nbconvert_exporter": "python",
   "pygments_lexer": "ipython2",
   "version": "2.7.6"
  }
 },
 "nbformat": 4,
 "nbformat_minor": 0
}
