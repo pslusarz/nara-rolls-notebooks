{
 "cells": [
  {
   "cell_type": "code",
   "execution_count": 17,
   "outputs": [],
   "source": [
    "os.chdir(\"/Users/paulslusarz/projects/pauls-llm-playground\")"
   ],
   "metadata": {
    "collapsed": false,
    "ExecuteTime": {
     "end_time": "2024-01-01T16:42:35.830125Z",
     "start_time": "2024-01-01T16:42:34.475460Z"
    }
   }
  },
  {
   "cell_type": "code",
   "execution_count": null,
   "outputs": [],
   "source": [],
   "metadata": {
    "collapsed": false
   }
  },
  {
   "cell_type": "code",
   "execution_count": 34,
   "outputs": [
    {
     "name": "stdout",
     "output_type": "stream",
     "text": [
      "Detected 22 diacritics\r\n",
      "Detected 261 diacritics\r\n",
      "Detected 35 diacritics\r\n",
      "Detected 530 diacritics\r\n",
      "Detected 77 diacritics\r\n",
      "Detected 309 diacritics\r\n",
      "Detected 119 diacritics\r\n",
      "Detected 51 diacritics\r\n",
      "Detected 143 diacritics\r\n",
      "Detected 44 diacritics\r\n",
      "Detected 95 diacritics\r\n",
      "Detected 114 diacritics\r\n",
      "Detected 364 diacritics\r\n",
      "Detected 247 diacritics\r\n",
      "Detected 306 diacritics\r\n",
      "Image too small to scale!! (2x36 vs min width of 3)\r\n",
      "Line cannot be recognized!!\r\n",
      "Detected 483 diacritics\r\n",
      "Detected 1183 diacritics\r\n",
      "Detected 1330 diacritics\r\n",
      "Detected 1016 diacritics\r\n",
      "Detected 72 diacritics\r\n",
      "Detected 1447 diacritics\r\n",
      "Detected 1108 diacritics\r\n",
      "Detected 34 diacritics\r\n",
      "Detected 1474 diacritics\r\n",
      "Detected 1279 diacritics\r\n",
      "Detected 62 diacritics\r\n",
      "Detected 27 diacritics\r\n",
      "Detected 93 diacritics\r\n",
      "Detected 65 diacritics\r\n",
      "Detected 12 diacritics\r\n",
      "Detected 213 diacritics\r\n",
      "Detected 45 diacritics\r\n",
      "Detected 36 diacritics\r\n",
      "Detected 34 diacritics\r\n",
      "Detected 755 diacritics\r\n",
      "Detected 153 diacritics\r\n",
      "Detected 15 diacritics\r\n",
      "Detected 774 diacritics\r\n",
      "Detected 182 diacritics\r\n",
      "Detected 278 diacritics\r\n",
      "Detected 661 diacritics\r\n",
      "Detected 191 diacritics\r\n",
      "Detected 370 diacritics\r\n",
      "Detected 320 diacritics\r\n",
      "Detected 151 diacritics\r\n",
      "Detected 344 diacritics\r\n",
      "Detected 143 diacritics\r\n",
      "Detected 548 diacritics\r\n",
      "Detected 1304 diacritics\r\n",
      "Detected 1629 diacritics\r\n",
      "Detected 1275 diacritics\r\n",
      "Detected 120 diacritics\r\n",
      "Detected 188 diacritics\r\n",
      "Detected 1073 diacritics\r\n",
      "Detected 352 diacritics\r\n",
      "Detected 44 diacritics\r\n",
      "Detected 8 diacritics\r\n",
      "Detected 52 diacritics\r\n",
      "Detected 23 diacritics\r\n",
      "Detected 117 diacritics\r\n",
      "Detected 71 diacritics\r\n",
      "Detected 37 diacritics\r\n",
      "Detected 302 diacritics\r\n",
      "Detected 35 diacritics\r\n",
      "Detected 42 diacritics\r\n",
      "Detected 67 diacritics\r\n",
      "Detected 58 diacritics\r\n",
      "Detected 53 diacritics\r\n",
      "Detected 12 diacritics\r\n",
      "Detected 191 diacritics\r\n",
      "Detected 21 diacritics\r\n",
      "Detected 17 diacritics\r\n",
      "Detected 22 diacritics\r\n",
      "Detected 35 diacritics\r\n",
      "Detected 55 diacritics\r\n",
      "Detected 108 diacritics\r\n",
      "Detected 277 diacritics\r\n",
      "Detected 368 diacritics\r\n",
      "Detected 12 diacritics\r\n"
     ]
    }
   ],
   "source": [
    "import os\n",
    "\n",
    "\n",
    "files = os.listdir(\"notebooks/data/full/images/\")\n",
    "\n",
    "for file in files:\n",
    "  !tesseract /Users/paulslusarz/projects/pauls-llm-playground/notebooks/data/full/images/'{file}'  /Users/paulslusarz/projects/pauls-llm-playground/notebooks/data/full/tesseract/'{file.split(\".\")[0]}'-tess -l deu\n"
   ],
   "metadata": {
    "collapsed": false,
    "ExecuteTime": {
     "end_time": "2024-01-01T19:24:00.384108Z",
     "start_time": "2024-01-01T18:27:56.684906Z"
    }
   }
  }
 ],
 "metadata": {
  "kernelspec": {
   "display_name": "Python 3",
   "language": "python",
   "name": "python3"
  },
  "language_info": {
   "codemirror_mode": {
    "name": "ipython",
    "version": 2
   },
   "file_extension": ".py",
   "mimetype": "text/x-python",
   "name": "python",
   "nbconvert_exporter": "python",
   "pygments_lexer": "ipython2",
   "version": "2.7.6"
  }
 },
 "nbformat": 4,
 "nbformat_minor": 0
}
